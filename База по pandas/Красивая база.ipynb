{
 "cells": [
  {
   "cell_type": "code",
   "execution_count": 1,
   "id": "620dc9b4-d2bf-422f-9a12-8c555e647d97",
   "metadata": {},
   "outputs": [],
   "source": [
    "import pandas as pd\n",
    "import numpy as np"
   ]
  },
  {
   "cell_type": "code",
   "execution_count": 2,
   "id": "c53e190a-e295-447b-b211-efe4d61fdcb3",
   "metadata": {},
   "outputs": [
    {
     "name": "stdout",
     "output_type": "stream",
     "text": [
      "0     5\n",
      "1     6\n",
      "2     7\n",
      "3     8\n",
      "4     9\n",
      "5    10\n",
      "dtype: int64\n"
     ]
    }
   ],
   "source": [
    "# Создадим объект Series\n",
    "my_series = pd.Series([5,6,7,8,9,10])\n",
    "print(my_series)\n",
    "# по сути это пронумерованный список\n",
    "\n",
    "# примечание: можно подавать на вход словарь"
   ]
  },
  {
   "cell_type": "code",
   "execution_count": 12,
   "id": "4f6cd7ef-5632-48f7-8e3c-8b447233957e",
   "metadata": {},
   "outputs": [
    {
     "name": "stdout",
     "output_type": "stream",
     "text": [
      "[ 5  6  7  8  9 10] int64\n"
     ]
    }
   ],
   "source": [
    "# можно достать индексы и сами значения в массив\n",
    "my_series.index \n",
    "joke = my_series.values\n",
    "print(joke,joke.dtype)\n"
   ]
  },
  {
   "cell_type": "code",
   "execution_count": 14,
   "id": "a33cdd62-ed94-4efc-987d-f2e13a24f983",
   "metadata": {},
   "outputs": [],
   "source": [
    "# можно создать серию со своими индексами и обращаться по ним\n",
    "my_series = pd.Series([5,6,7,8,9,10], index = ['a','s','d','f','g','o'])"
   ]
  },
  {
   "cell_type": "code",
   "execution_count": 22,
   "id": "7f606c70-3760-46e8-a9a8-3ec729a894e6",
   "metadata": {},
   "outputs": [
    {
     "data": {
      "text/plain": [
       "a    148\n",
       "s      6\n",
       "d      7\n",
       "f      8\n",
       "g      9\n",
       "o    148\n",
       "dtype: int64"
      ]
     },
     "execution_count": 22,
     "metadata": {},
     "output_type": "execute_result"
    }
   ],
   "source": [
    "# можно изменять значения в серии по некоторым индексам \n",
    "my_series[['a','o']] = 148 # обращаемся к массиву некоторых значений\n",
    "my_series "
   ]
  },
  {
   "cell_type": "code",
   "execution_count": 20,
   "id": "9cdeed77-ee31-4986-870c-fc155a2ab382",
   "metadata": {},
   "outputs": [
    {
     "data": {
      "text/plain": [
       "a    148\n",
       "f      8\n",
       "g      9\n",
       "o    148\n",
       "dtype: int64"
      ]
     },
     "execution_count": 20,
     "metadata": {},
     "output_type": "execute_result"
    }
   ],
   "source": [
    "# отфильтруем\n",
    "my_series[my_series>7]\n",
    "# my_series>7 создает серию, у которой напротив индексов стоит правда или ложь "
   ]
  },
  {
   "cell_type": "code",
   "execution_count": null,
   "id": "844ca2a5-e7a7-430e-829d-f83008a88275",
   "metadata": {},
   "outputs": [],
   "source": [
    "#Теперь посмотрим внимательно на объекты типа DataFrame"
   ]
  },
  {
   "cell_type": "code",
   "execution_count": 28,
   "id": "e910ed87-70a4-4d3f-8600-fe616fbea310",
   "metadata": {},
   "outputs": [
    {
     "name": "stdout",
     "output_type": "stream",
     "text": [
      "| фрукты   | овощи   | животные   |\n",
      "|:---------|:--------|:-----------|\n",
      "| яблоко   | морковь | кошка      |\n",
      "| банан    | огурец  | собака     |\n",
      "| вишня    | помидор | кролик     |\n"
     ]
    }
   ],
   "source": [
    "# датафрейм это набор из Series\n",
    "df = pd.DataFrame({\n",
    "    \"фрукты\": [\"яблоко\", \"банан\", \"вишня\"],\n",
    "    \"овощи\": [\"морковь\", \"огурец\", \"помидор\"],\n",
    "    \"животные\": [\"кошка\", \"собака\", \"кролик\"]\n",
    "})\n",
    "print(df.to_markdown(index=False)) # один из методов красивого вывода датафрейма. Обычно можно просто написать его имя.\n",
    "# обращаясь к некоторым столбцам мы получаем серию"
   ]
  },
  {
   "cell_type": "code",
   "execution_count": null,
   "id": "2a7cd4c8-cde8-494a-8f19-920a3a21c4ba",
   "metadata": {},
   "outputs": [],
   "source": [
    "# можно читать из csv Файла указывая в функции read разделители  sep = ','\n",
    "dat = pd.read_csv('путь к файлу имя', sep = ',')"
   ]
  },
  {
   "cell_type": "code",
   "execution_count": null,
   "id": "a2798e78-a0d5-420c-8b55-8a85a5bd4b5e",
   "metadata": {},
   "outputs": [],
   "source": [
    "# в пандасе можно читать данные по чанкам, обрабатывая их последовательно.\n",
    "# это может быть необходимо при работе с очень большими данными\n",
    "for gm_chunk in pd.read_csv('имя', chunkssize = количество за раз прочитанных строк):\n",
    "    некоторая обработка\n"
   ]
  },
  {
   "cell_type": "code",
   "execution_count": 32,
   "id": "ce1e43e5-07ba-4b60-9c82-b75304c5c529",
   "metadata": {},
   "outputs": [
    {
     "data": {
      "text/html": [
       "<div>\n",
       "<style scoped>\n",
       "    .dataframe tbody tr th:only-of-type {\n",
       "        vertical-align: middle;\n",
       "    }\n",
       "\n",
       "    .dataframe tbody tr th {\n",
       "        vertical-align: top;\n",
       "    }\n",
       "\n",
       "    .dataframe thead th {\n",
       "        text-align: right;\n",
       "    }\n",
       "</style>\n",
       "<table border=\"1\" class=\"dataframe\">\n",
       "  <thead>\n",
       "    <tr style=\"text-align: right;\">\n",
       "      <th></th>\n",
       "      <th>овощи</th>\n",
       "      <th>фрукты</th>\n",
       "    </tr>\n",
       "  </thead>\n",
       "  <tbody>\n",
       "    <tr>\n",
       "      <th>1</th>\n",
       "      <td>огурец</td>\n",
       "      <td>банан</td>\n",
       "    </tr>\n",
       "  </tbody>\n",
       "</table>\n",
       "</div>"
      ],
      "text/plain": [
       "    овощи фрукты\n",
       "1  огурец  банан"
      ]
     },
     "execution_count": 32,
     "metadata": {},
     "output_type": "execute_result"
    }
   ],
   "source": [
    "# доступ к данным осуществляется так \n",
    "df.loc[[1],['овощи','фрукты']] # пишем номер строки (или )некотррый литерал а затем отбор столбцов, если требуется"
   ]
  },
  {
   "cell_type": "code",
   "execution_count": 35,
   "id": "1e16781d-2291-4a3f-bcbb-9f2b2c389d5c",
   "metadata": {},
   "outputs": [
    {
     "data": {
      "text/html": [
       "<div>\n",
       "<style scoped>\n",
       "    .dataframe tbody tr th:only-of-type {\n",
       "        vertical-align: middle;\n",
       "    }\n",
       "\n",
       "    .dataframe tbody tr th {\n",
       "        vertical-align: top;\n",
       "    }\n",
       "\n",
       "    .dataframe thead th {\n",
       "        text-align: right;\n",
       "    }\n",
       "</style>\n",
       "<table border=\"1\" class=\"dataframe\">\n",
       "  <thead>\n",
       "    <tr style=\"text-align: right;\">\n",
       "      <th></th>\n",
       "      <th>животные</th>\n",
       "      <th>овощи</th>\n",
       "    </tr>\n",
       "  </thead>\n",
       "  <tbody>\n",
       "    <tr>\n",
       "      <th>0</th>\n",
       "      <td>кошка</td>\n",
       "      <td>морковь</td>\n",
       "    </tr>\n",
       "  </tbody>\n",
       "</table>\n",
       "</div>"
      ],
      "text/plain": [
       "  животные    овощи\n",
       "0    кошка  морковь"
      ]
     },
     "execution_count": 35,
     "metadata": {},
     "output_type": "execute_result"
    }
   ],
   "source": [
    "# отбор производится аналогично Series\n",
    "df[df.фрукты == 'яблоко'][['животные','овощи']] \n",
    "# сначала указали условие отбора, потом столбцы которые надо выбрать. Если нужна строка целиком, то условие не пигешем"
   ]
  },
  {
   "cell_type": "code",
   "execution_count": 36,
   "id": "fa1fdcfd-3ef5-4b87-b33f-e1d7f345aeae",
   "metadata": {},
   "outputs": [],
   "source": [
    "# вставим новые столбцы\n",
    "df['цифры'] = [3,5,8]"
   ]
  },
  {
   "cell_type": "code",
   "execution_count": 38,
   "id": "f1db48e8-201d-4ff2-8abe-447e8ffb0024",
   "metadata": {},
   "outputs": [],
   "source": [
    "df['простые числа'] = [2,3,5]"
   ]
  },
  {
   "cell_type": "code",
   "execution_count": 39,
   "id": "cc769142-a832-4d79-8c58-8231809b568d",
   "metadata": {},
   "outputs": [],
   "source": [
    "df['цифры ^ простые числа'] = df['цифры'] ** df['простые числа']"
   ]
  },
  {
   "cell_type": "code",
   "execution_count": 40,
   "id": "2de1aa41-aec9-4c4e-97c5-cc734e64244e",
   "metadata": {},
   "outputs": [
    {
     "data": {
      "text/html": [
       "<div>\n",
       "<style scoped>\n",
       "    .dataframe tbody tr th:only-of-type {\n",
       "        vertical-align: middle;\n",
       "    }\n",
       "\n",
       "    .dataframe tbody tr th {\n",
       "        vertical-align: top;\n",
       "    }\n",
       "\n",
       "    .dataframe thead th {\n",
       "        text-align: right;\n",
       "    }\n",
       "</style>\n",
       "<table border=\"1\" class=\"dataframe\">\n",
       "  <thead>\n",
       "    <tr style=\"text-align: right;\">\n",
       "      <th></th>\n",
       "      <th>фрукты</th>\n",
       "      <th>овощи</th>\n",
       "      <th>животные</th>\n",
       "      <th>цифры</th>\n",
       "      <th>простые числа</th>\n",
       "      <th>цифры ^ простые числа</th>\n",
       "    </tr>\n",
       "  </thead>\n",
       "  <tbody>\n",
       "    <tr>\n",
       "      <th>0</th>\n",
       "      <td>яблоко</td>\n",
       "      <td>морковь</td>\n",
       "      <td>кошка</td>\n",
       "      <td>3</td>\n",
       "      <td>2</td>\n",
       "      <td>9</td>\n",
       "    </tr>\n",
       "    <tr>\n",
       "      <th>1</th>\n",
       "      <td>банан</td>\n",
       "      <td>огурец</td>\n",
       "      <td>собака</td>\n",
       "      <td>5</td>\n",
       "      <td>3</td>\n",
       "      <td>125</td>\n",
       "    </tr>\n",
       "    <tr>\n",
       "      <th>2</th>\n",
       "      <td>вишня</td>\n",
       "      <td>помидор</td>\n",
       "      <td>кролик</td>\n",
       "      <td>8</td>\n",
       "      <td>5</td>\n",
       "      <td>32768</td>\n",
       "    </tr>\n",
       "  </tbody>\n",
       "</table>\n",
       "</div>"
      ],
      "text/plain": [
       "   фрукты    овощи животные  цифры  простые числа  цифры ^ простые числа\n",
       "0  яблоко  морковь    кошка      3              2                      9\n",
       "1   банан   огурец   собака      5              3                    125\n",
       "2   вишня  помидор   кролик      8              5                  32768"
      ]
     },
     "execution_count": 40,
     "metadata": {},
     "output_type": "execute_result"
    }
   ],
   "source": [
    "df"
   ]
  },
  {
   "cell_type": "code",
   "execution_count": 43,
   "id": "32ae2c38-dcc5-49f9-9965-96eb1e6c8fdb",
   "metadata": {},
   "outputs": [],
   "source": [
    "# ВАЖНО. Если хотим убрать колонку в исходном датафрейме нужно добавить параметр inplace = True, но мои\\жно и вручную переписать\n",
    "sas = df.drop(['фрукты'], axis = 1) # обязательно указать ось (для колонки это 1)"
   ]
  },
  {
   "cell_type": "code",
   "execution_count": 44,
   "id": "4ef94af4-6549-4afe-8f4c-70514b2dfa01",
   "metadata": {},
   "outputs": [
    {
     "data": {
      "text/html": [
       "<div>\n",
       "<style scoped>\n",
       "    .dataframe tbody tr th:only-of-type {\n",
       "        vertical-align: middle;\n",
       "    }\n",
       "\n",
       "    .dataframe tbody tr th {\n",
       "        vertical-align: top;\n",
       "    }\n",
       "\n",
       "    .dataframe thead th {\n",
       "        text-align: right;\n",
       "    }\n",
       "</style>\n",
       "<table border=\"1\" class=\"dataframe\">\n",
       "  <thead>\n",
       "    <tr style=\"text-align: right;\">\n",
       "      <th></th>\n",
       "      <th>фрукты</th>\n",
       "      <th>овощи</th>\n",
       "      <th>животные</th>\n",
       "      <th>цифры</th>\n",
       "      <th>простые числа</th>\n",
       "      <th>цифры ^ простые числа</th>\n",
       "    </tr>\n",
       "  </thead>\n",
       "  <tbody>\n",
       "    <tr>\n",
       "      <th>0</th>\n",
       "      <td>яблоко</td>\n",
       "      <td>морковь</td>\n",
       "      <td>кошка</td>\n",
       "      <td>3</td>\n",
       "      <td>2</td>\n",
       "      <td>9</td>\n",
       "    </tr>\n",
       "    <tr>\n",
       "      <th>1</th>\n",
       "      <td>банан</td>\n",
       "      <td>огурец</td>\n",
       "      <td>собака</td>\n",
       "      <td>5</td>\n",
       "      <td>3</td>\n",
       "      <td>125</td>\n",
       "    </tr>\n",
       "    <tr>\n",
       "      <th>2</th>\n",
       "      <td>вишня</td>\n",
       "      <td>помидор</td>\n",
       "      <td>кролик</td>\n",
       "      <td>8</td>\n",
       "      <td>5</td>\n",
       "      <td>32768</td>\n",
       "    </tr>\n",
       "  </tbody>\n",
       "</table>\n",
       "</div>"
      ],
      "text/plain": [
       "   фрукты    овощи животные  цифры  простые числа  цифры ^ простые числа\n",
       "0  яблоко  морковь    кошка      3              2                      9\n",
       "1   банан   огурец   собака      5              3                    125\n",
       "2   вишня  помидор   кролик      8              5                  32768"
      ]
     },
     "execution_count": 44,
     "metadata": {},
     "output_type": "execute_result"
    }
   ],
   "source": [
    "df"
   ]
  },
  {
   "cell_type": "code",
   "execution_count": 45,
   "id": "379d3c72-a035-49cd-8912-ebb6631d3922",
   "metadata": {},
   "outputs": [
    {
     "data": {
      "text/html": [
       "<div>\n",
       "<style scoped>\n",
       "    .dataframe tbody tr th:only-of-type {\n",
       "        vertical-align: middle;\n",
       "    }\n",
       "\n",
       "    .dataframe tbody tr th {\n",
       "        vertical-align: top;\n",
       "    }\n",
       "\n",
       "    .dataframe thead th {\n",
       "        text-align: right;\n",
       "    }\n",
       "</style>\n",
       "<table border=\"1\" class=\"dataframe\">\n",
       "  <thead>\n",
       "    <tr style=\"text-align: right;\">\n",
       "      <th></th>\n",
       "      <th>овощи</th>\n",
       "      <th>животные</th>\n",
       "      <th>цифры</th>\n",
       "      <th>простые числа</th>\n",
       "      <th>цифры ^ простые числа</th>\n",
       "    </tr>\n",
       "  </thead>\n",
       "  <tbody>\n",
       "    <tr>\n",
       "      <th>0</th>\n",
       "      <td>морковь</td>\n",
       "      <td>кошка</td>\n",
       "      <td>3</td>\n",
       "      <td>2</td>\n",
       "      <td>9</td>\n",
       "    </tr>\n",
       "    <tr>\n",
       "      <th>1</th>\n",
       "      <td>огурец</td>\n",
       "      <td>собака</td>\n",
       "      <td>5</td>\n",
       "      <td>3</td>\n",
       "      <td>125</td>\n",
       "    </tr>\n",
       "    <tr>\n",
       "      <th>2</th>\n",
       "      <td>помидор</td>\n",
       "      <td>кролик</td>\n",
       "      <td>8</td>\n",
       "      <td>5</td>\n",
       "      <td>32768</td>\n",
       "    </tr>\n",
       "  </tbody>\n",
       "</table>\n",
       "</div>"
      ],
      "text/plain": [
       "     овощи животные  цифры  простые числа  цифры ^ простые числа\n",
       "0  морковь    кошка      3              2                      9\n",
       "1   огурец   собака      5              3                    125\n",
       "2  помидор   кролик      8              5                  32768"
      ]
     },
     "execution_count": 45,
     "metadata": {},
     "output_type": "execute_result"
    }
   ],
   "source": [
    "sas"
   ]
  },
  {
   "cell_type": "code",
   "execution_count": null,
   "id": "02ca9dae-7a48-4e6e-8652-296b6b6130f9",
   "metadata": {},
   "outputs": [],
   "source": [
    "# колоночки можно переименовывать методом df.rename(columns={\"первое\": \"Местоположение\"}, inplace=True)"
   ]
  },
  {
   "cell_type": "code",
   "execution_count": 48,
   "id": "f37e381f-9ef7-4cdf-9368-05c9f4ed148d",
   "metadata": {},
   "outputs": [
    {
     "data": {
      "text/html": [
       "<div>\n",
       "<style scoped>\n",
       "    .dataframe tbody tr th:only-of-type {\n",
       "        vertical-align: middle;\n",
       "    }\n",
       "\n",
       "    .dataframe tbody tr th {\n",
       "        vertical-align: top;\n",
       "    }\n",
       "\n",
       "    .dataframe thead th {\n",
       "        text-align: right;\n",
       "    }\n",
       "</style>\n",
       "<table border=\"1\" class=\"dataframe\">\n",
       "  <thead>\n",
       "    <tr style=\"text-align: right;\">\n",
       "      <th></th>\n",
       "      <th>фрукты</th>\n",
       "      <th>овощи</th>\n",
       "      <th>животные</th>\n",
       "    </tr>\n",
       "  </thead>\n",
       "  <tbody>\n",
       "    <tr>\n",
       "      <th>count</th>\n",
       "      <td>3</td>\n",
       "      <td>3</td>\n",
       "      <td>3</td>\n",
       "    </tr>\n",
       "    <tr>\n",
       "      <th>unique</th>\n",
       "      <td>3</td>\n",
       "      <td>3</td>\n",
       "      <td>3</td>\n",
       "    </tr>\n",
       "    <tr>\n",
       "      <th>top</th>\n",
       "      <td>яблоко</td>\n",
       "      <td>морковь</td>\n",
       "      <td>кошка</td>\n",
       "    </tr>\n",
       "    <tr>\n",
       "      <th>freq</th>\n",
       "      <td>1</td>\n",
       "      <td>1</td>\n",
       "      <td>1</td>\n",
       "    </tr>\n",
       "  </tbody>\n",
       "</table>\n",
       "</div>"
      ],
      "text/plain": [
       "        фрукты    овощи животные\n",
       "count        3        3        3\n",
       "unique       3        3        3\n",
       "top     яблоко  морковь    кошка\n",
       "freq         1        1        1"
      ]
     },
     "execution_count": 48,
     "metadata": {},
     "output_type": "execute_result"
    }
   ],
   "source": [
    "df.describe(include=['object']) # предоставляет некоторую минимальную информацию"
   ]
  },
  {
   "cell_type": "code",
   "execution_count": 49,
   "id": "58dc6775-d242-4872-8cd3-9cead7ae28b8",
   "metadata": {},
   "outputs": [
    {
     "data": {
      "text/html": [
       "<div>\n",
       "<style scoped>\n",
       "    .dataframe tbody tr th:only-of-type {\n",
       "        vertical-align: middle;\n",
       "    }\n",
       "\n",
       "    .dataframe tbody tr th {\n",
       "        vertical-align: top;\n",
       "    }\n",
       "\n",
       "    .dataframe thead th {\n",
       "        text-align: right;\n",
       "    }\n",
       "</style>\n",
       "<table border=\"1\" class=\"dataframe\">\n",
       "  <thead>\n",
       "    <tr style=\"text-align: right;\">\n",
       "      <th></th>\n",
       "      <th>цифры</th>\n",
       "      <th>простые числа</th>\n",
       "      <th>цифры ^ простые числа</th>\n",
       "    </tr>\n",
       "  </thead>\n",
       "  <tbody>\n",
       "    <tr>\n",
       "      <th>count</th>\n",
       "      <td>3.000000</td>\n",
       "      <td>3.000000</td>\n",
       "      <td>3.000000</td>\n",
       "    </tr>\n",
       "    <tr>\n",
       "      <th>mean</th>\n",
       "      <td>5.333333</td>\n",
       "      <td>3.333333</td>\n",
       "      <td>10967.333333</td>\n",
       "    </tr>\n",
       "    <tr>\n",
       "      <th>std</th>\n",
       "      <td>2.516611</td>\n",
       "      <td>1.527525</td>\n",
       "      <td>18880.020242</td>\n",
       "    </tr>\n",
       "    <tr>\n",
       "      <th>min</th>\n",
       "      <td>3.000000</td>\n",
       "      <td>2.000000</td>\n",
       "      <td>9.000000</td>\n",
       "    </tr>\n",
       "    <tr>\n",
       "      <th>25%</th>\n",
       "      <td>4.000000</td>\n",
       "      <td>2.500000</td>\n",
       "      <td>67.000000</td>\n",
       "    </tr>\n",
       "    <tr>\n",
       "      <th>50%</th>\n",
       "      <td>5.000000</td>\n",
       "      <td>3.000000</td>\n",
       "      <td>125.000000</td>\n",
       "    </tr>\n",
       "    <tr>\n",
       "      <th>75%</th>\n",
       "      <td>6.500000</td>\n",
       "      <td>4.000000</td>\n",
       "      <td>16446.500000</td>\n",
       "    </tr>\n",
       "    <tr>\n",
       "      <th>max</th>\n",
       "      <td>8.000000</td>\n",
       "      <td>5.000000</td>\n",
       "      <td>32768.000000</td>\n",
       "    </tr>\n",
       "  </tbody>\n",
       "</table>\n",
       "</div>"
      ],
      "text/plain": [
       "          цифры  простые числа  цифры ^ простые числа\n",
       "count  3.000000       3.000000               3.000000\n",
       "mean   5.333333       3.333333           10967.333333\n",
       "std    2.516611       1.527525           18880.020242\n",
       "min    3.000000       2.000000               9.000000\n",
       "25%    4.000000       2.500000              67.000000\n",
       "50%    5.000000       3.000000             125.000000\n",
       "75%    6.500000       4.000000           16446.500000\n",
       "max    8.000000       5.000000           32768.000000"
      ]
     },
     "execution_count": 49,
     "metadata": {},
     "output_type": "execute_result"
    }
   ],
   "source": [
    "df.describe()"
   ]
  },
  {
   "cell_type": "code",
   "execution_count": 51,
   "id": "3da0afa6-1866-48bf-80f9-b0cd13ac0976",
   "metadata": {},
   "outputs": [
    {
     "data": {
      "text/plain": [
       "фрукты\n",
       "яблоко    1\n",
       "банан     1\n",
       "вишня     1\n",
       "Name: count, dtype: int64"
      ]
     },
     "execution_count": 51,
     "metadata": {},
     "output_type": "execute_result"
    }
   ],
   "source": [
    "df.фрукты.value_counts()[:5] # получим 5 самых популярных элементов"
   ]
  },
  {
   "cell_type": "code",
   "execution_count": 53,
   "id": "aae3e00d-650a-43e7-83a6-dc5ddf69e4c4",
   "metadata": {},
   "outputs": [
    {
     "name": "stdout",
     "output_type": "stream",
     "text": [
      "<class 'pandas.core.frame.DataFrame'>\n",
      "RangeIndex: 3 entries, 0 to 2\n",
      "Data columns (total 6 columns):\n",
      " #   Column                 Non-Null Count  Dtype \n",
      "---  ------                 --------------  ----- \n",
      " 0   фрукты                 3 non-null      object\n",
      " 1   овощи                  3 non-null      object\n",
      " 2   животные               3 non-null      object\n",
      " 3   цифры                  3 non-null      int64 \n",
      " 4   простые числа          3 non-null      int64 \n",
      " 5   цифры ^ простые числа  3 non-null      int64 \n",
      "dtypes: int64(3), object(3)\n",
      "memory usage: 276.0+ bytes\n"
     ]
    }
   ],
   "source": [
    "df.info() # выдаст информацию о типе и количестве ненулевых элементов"
   ]
  },
  {
   "cell_type": "code",
   "execution_count": 54,
   "id": "d64af236-d0e8-41e4-9664-a48b3a76c0c2",
   "metadata": {},
   "outputs": [
    {
     "data": {
      "text/plain": [
       "[('фрукты', 3),\n",
       " ('овощи', 3),\n",
       " ('животные', 3),\n",
       " ('цифры', 3),\n",
       " ('простые числа', 3),\n",
       " ('цифры ^ простые числа', 3)]"
      ]
     },
     "execution_count": 54,
     "metadata": {},
     "output_type": "execute_result"
    }
   ],
   "source": [
    "# можно посмотреть на количество уникальных не нулевых объектов\n",
    "[(col,df[col].nunique()) for col in df.columns]"
   ]
  },
  {
   "cell_type": "code",
   "execution_count": 58,
   "id": "10e09967-edbe-45e1-9ba3-e94c29d55517",
   "metadata": {},
   "outputs": [
    {
     "data": {
      "text/html": [
       "<div>\n",
       "<style scoped>\n",
       "    .dataframe tbody tr th:only-of-type {\n",
       "        vertical-align: middle;\n",
       "    }\n",
       "\n",
       "    .dataframe tbody tr th {\n",
       "        vertical-align: top;\n",
       "    }\n",
       "\n",
       "    .dataframe thead th {\n",
       "        text-align: right;\n",
       "    }\n",
       "</style>\n",
       "<table border=\"1\" class=\"dataframe\">\n",
       "  <thead>\n",
       "    <tr style=\"text-align: right;\">\n",
       "      <th></th>\n",
       "      <th>фрукты</th>\n",
       "      <th>овощи</th>\n",
       "      <th>животные</th>\n",
       "      <th>цифры</th>\n",
       "      <th>простые числа</th>\n",
       "      <th>цифры ^ простые числа</th>\n",
       "    </tr>\n",
       "  </thead>\n",
       "  <tbody>\n",
       "    <tr>\n",
       "      <th>1</th>\n",
       "      <td>банан</td>\n",
       "      <td>огурец</td>\n",
       "      <td>собака</td>\n",
       "      <td>5</td>\n",
       "      <td>3</td>\n",
       "      <td>125</td>\n",
       "    </tr>\n",
       "    <tr>\n",
       "      <th>2</th>\n",
       "      <td>вишня</td>\n",
       "      <td>помидор</td>\n",
       "      <td>кролик</td>\n",
       "      <td>8</td>\n",
       "      <td>5</td>\n",
       "      <td>32768</td>\n",
       "    </tr>\n",
       "    <tr>\n",
       "      <th>0</th>\n",
       "      <td>яблоко</td>\n",
       "      <td>морковь</td>\n",
       "      <td>кошка</td>\n",
       "      <td>3</td>\n",
       "      <td>2</td>\n",
       "      <td>9</td>\n",
       "    </tr>\n",
       "  </tbody>\n",
       "</table>\n",
       "</div>"
      ],
      "text/plain": [
       "   фрукты    овощи животные  цифры  простые числа  цифры ^ простые числа\n",
       "1   банан   огурец   собака      5              3                    125\n",
       "2   вишня  помидор   кролик      8              5                  32768\n",
       "0  яблоко  морковь    кошка      3              2                      9"
      ]
     },
     "execution_count": 58,
     "metadata": {},
     "output_type": "execute_result"
    }
   ],
   "source": [
    "df.sort_values(by = ['фрукты','овощи'], ascending = [True, True]) # сортировка"
   ]
  },
  {
   "cell_type": "code",
   "execution_count": 61,
   "id": "68fc7dc7-38ae-4f7a-b851-284227222b2d",
   "metadata": {},
   "outputs": [
    {
     "data": {
      "text/plain": [
       "фрукты\n",
       "банан     3\n",
       "вишня     5\n",
       "яблоко    2\n",
       "Name: простые числа, dtype: int64"
      ]
     },
     "execution_count": 61,
     "metadata": {},
     "output_type": "execute_result"
    }
   ],
   "source": [
    "df.groupby(by = 'фрукты')['простые числа'].max() # группируем по наборам элементов\n",
    "# типо как агрегатные функции, смотрим в каком столбце считаем и что\n",
    "# много значений можно получить через .agg(/// тут то что хотим посчитать)"
   ]
  },
  {
   "cell_type": "code",
   "execution_count": null,
   "id": "73475a94-dba7-4c4b-9c7a-7f186ecb3fc0",
   "metadata": {},
   "outputs": [],
   "source": [
    "# с помощью методов concat можно объединить таблицы pd.concat(df1, df2)\n",
    "# объединение по столбцам произведем по axis = 1\n",
    "# также есть функции аналогичные LEFT JOIN "
   ]
  }
 ],
 "metadata": {
  "kernelspec": {
   "display_name": "Python 3 (ipykernel)",
   "language": "python",
   "name": "python3"
  },
  "language_info": {
   "codemirror_mode": {
    "name": "ipython",
    "version": 3
   },
   "file_extension": ".py",
   "mimetype": "text/x-python",
   "name": "python",
   "nbconvert_exporter": "python",
   "pygments_lexer": "ipython3",
   "version": "3.13.0"
  }
 },
 "nbformat": 4,
 "nbformat_minor": 5
}
