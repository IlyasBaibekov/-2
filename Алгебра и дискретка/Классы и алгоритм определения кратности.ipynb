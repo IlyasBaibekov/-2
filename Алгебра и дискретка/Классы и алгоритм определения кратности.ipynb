{
 "cells": [
  {
   "cell_type": "code",
   "execution_count": 1,
   "id": "b272d59f-dc9b-41c6-bb6f-e1461ba24b76",
   "metadata": {},
   "outputs": [
    {
     "name": "stdout",
     "output_type": "stream",
     "text": [
      "1\n",
      "4\n",
      "9\n",
      "16\n",
      "25\n",
      "36\n",
      "49\n",
      "64\n",
      "81\n",
      "100\n"
     ]
    }
   ],
   "source": [
    "class SquareIterator:\n",
    "    def __init__(self, max_num):   \n",
    "        self.max_num = max_num\n",
    "        self.current = 1\n",
    "\n",
    "    def __iter__(self):\n",
    "        return self\n",
    "\n",
    "    def __next__(self):\n",
    "        if self.current <= self.max_num:\n",
    "            result = self.current ** 2\n",
    "            self.current += 1\n",
    "            return result\n",
    "        else:\n",
    "            raise StopIteration\n",
    "\n",
    "# Использование итератора\n",
    "square_iter = SquareIterator(10)\n",
    "for square in square_iter:\n",
    "    print(square)"
   ]
  },
  {
   "cell_type": "code",
   "execution_count": 5,
   "id": "8fdff1a6-e66d-4998-b2e8-8492ed59e637",
   "metadata": {},
   "outputs": [
    {
     "name": "stdout",
     "output_type": "stream",
     "text": [
      "1\n",
      "2\n",
      "5\n",
      "14\n"
     ]
    }
   ],
   "source": [
    "class CatalanIterator:\n",
    "    def __init__(self, max_num):   \n",
    "        self.max_num = max_num\n",
    "        self.current = 1\n",
    "        self.nacop = 1\n",
    "\n",
    "    def __iter__(self):\n",
    "        return self\n",
    "\n",
    "    def __next__(self):\n",
    "        \n",
    "        if self.current <= self.max_num:\n",
    "            self.nacop = (4-6/(self.current+1))*self.nacop\n",
    "            self.current += 1\n",
    "            return int(self.nacop)\n",
    "        else:\n",
    "            raise StopIteration\n",
    "\n",
    "\n",
    "square_iter = SquareIterator(4)\n",
    "for square in square_iter:\n",
    "    print(square)"
   ]
  },
  {
   "cell_type": "code",
   "execution_count": 11,
   "id": "0de2a7f5-2379-4cca-846b-586cc11e2aa5",
   "metadata": {},
   "outputs": [
    {
     "name": "stdout",
     "output_type": "stream",
     "text": [
      "{4, 5}\n"
     ]
    }
   ],
   "source": [
    "#функция, которая принимает два списка и возвращает множество их общих элементов\n",
    "def commonelements(list1,list2): # нельзя, чтобы в списках находились изменяемые объекты, если хотим чтобы были списки надо произвести преобразование к кортежам\n",
    "    set1 = set(tuple(list1)) # кортежирование можно убрать\n",
    "    set2 = set(tuple(list2))\n",
    "    return set1.intersection(set2)\n",
    "\n",
    "\n",
    "list1 = [1, 2, 3, 4, 5]\n",
    "list2 = [4, 5, 6, 7, 8]\n",
    "print(commonelements(list1, list2))\n"
   ]
  },
  {
   "cell_type": "code",
   "execution_count": 14,
   "id": "fefab0f9-ff47-4f1c-8f77-17d7a43f88e8",
   "metadata": {},
   "outputs": [
    {
     "data": {
      "text/plain": [
       "dict_items([('Alice', {'age': 20, 'grades': [85, 90, 88]}), ('Bob', {'age': 22, 'grades': [78, 82, 80]}), ('Charlie', {'age': 21, 'grades': [92, 95, 93]})])"
      ]
     },
     "execution_count": 14,
     "metadata": {},
     "output_type": "execute_result"
    }
   ],
   "source": [
    "students = {\n",
    "    'Alice': {'age': 20, 'grades': [85, 90, 88]},\n",
    "    'Bob': {'age': 22, 'grades': [78, 82, 80]},\n",
    "    'Charlie': {'age': 21, 'grades': [92, 95, 93]}\n",
    "}\n",
    "\n",
    "def best_student(students):\n",
    "    best_avg = 0\n",
    "    best_student_name = ''\n",
    "    for name, info in students.items():\n",
    "        avg_grade = sum(info['grades']) / len(info['grades'])\n",
    "        if avg_grade > best_avg:\n",
    "            best_avg = avg_grade\n",
    "            best_student_name = name\n",
    "    return best_student_name\n",
    "\n",
    "# Пример использования\n",
    "print(best_student(students))"
   ]
  },
  {
   "cell_type": "code",
   "execution_count": null,
   "id": "34d2740e-717b-45a0-975b-a4fdd053e9a8",
   "metadata": {},
   "outputs": [],
   "source": [
    "def filter_even_numbers(numbers):\n",
    "    return [num for num in numbers if num % 2 == 0]\n",
    "\n",
    "# Пример использования\n",
    "numbers = [1, 2, 3, 4, 5, 6, 7, 8, 9, 10]\n",
    "print(filter_even_numbers(numbers))"
   ]
  },
  {
   "cell_type": "code",
   "execution_count": 2,
   "id": "0e883444-47c2-4039-8ed6-cb9744f672a2",
   "metadata": {},
   "outputs": [
    {
     "name": "stdin",
     "output_type": "stream",
     "text": [
      " 1\n",
      " 2\n"
     ]
    },
    {
     "name": "stdout",
     "output_type": "stream",
     "text": [
      "[1, 2]\n"
     ]
    }
   ],
   "source": [
    "x = int(input())\n",
    "y = int(input())\n",
    "b = [x,y]\n",
    "print(b)"
   ]
  },
  {
   "cell_type": "code",
   "execution_count": 53,
   "id": "862a2c00-94a1-4d5d-90aa-4975028579c4",
   "metadata": {},
   "outputs": [],
   "source": [
    "import numpy as np\n",
    "def GetPoint(count):\n",
    "    x = int(input())\n",
    "    y = int(input())\n",
    "    b = [x,y]\n",
    "    a = [];\n",
    "    a.append(b)\n",
    "    min = y\n",
    "    max = y\n",
    "    for i in range(count-1):\n",
    "        x = int(input())\n",
    "        y = int(input())\n",
    "        b = [x,y]\n",
    "        a.append(b)\n",
    "        if max < y:\n",
    "            max = y\n",
    "        if min > y:\n",
    "            min = y\n",
    "    a.append(min)\n",
    "    a.append(max)\n",
    "    return a\n",
    "\n",
    "\n",
    "\n",
    "def Pereor(a):\n",
    "    for k in np.arange(a[len(a)-2],a[len(a)-1],0.5):\n",
    "        for h in range(len(a)-2):\n",
    "            par = -1;\n",
    "            for q in range(len(a)-2):\n",
    "                if a[h][0] != a[q][0]:\n",
    "                    break\n",
    "                if a[h][1]-k == k - a[q][1]:\n",
    "                    par = 0\n",
    "            if par == -1:\n",
    "                break\n",
    "        return k\n",
    "\n",
    "\n",
    "def Perebor(a):\n",
    "    for k in np.arange(a[len(a)-2], a[len(a)-1], 0.5):\n",
    "        for h in range(len(a)-2):\n",
    "            par = -1\n",
    "            for q in range(len(a)-2):\n",
    "                if a[h][0] != a[q][0]:\n",
    "                    break\n",
    "                if a[h][1] - k == k - a[q][1]:\n",
    "                    par = 0\n",
    "            if par == -1:\n",
    "                break\n",
    "        if par != -1:\n",
    "            return k\n",
    "    return \"It is impossible to find a line that divides the points like a mirror.\"\n"
   ]
  },
  {
   "cell_type": "code",
   "execution_count": 55,
   "id": "bf866e34-5716-4eee-bc2f-f2f3eeafc10e",
   "metadata": {},
   "outputs": [
    {
     "name": "stdin",
     "output_type": "stream",
     "text": [
      " 1\n",
      " 2\n",
      " 1\n",
      " 5\n",
      " 1\n",
      " 8\n"
     ]
    },
    {
     "data": {
      "text/plain": [
       "5.0"
      ]
     },
     "execution_count": 55,
     "metadata": {},
     "output_type": "execute_result"
    }
   ],
   "source": [
    "Perebor(GetPoint(3))\n"
   ]
  },
  {
   "cell_type": "code",
   "execution_count": 25,
   "id": "183d700d-14ba-4de6-9138-a75561977f93",
   "metadata": {},
   "outputs": [
    {
     "data": {
      "text/plain": [
       "5"
      ]
     },
     "execution_count": 25,
     "metadata": {},
     "output_type": "execute_result"
    }
   ],
   "source": [
    "abs(-5)"
   ]
  },
  {
   "cell_type": "code",
   "execution_count": 7,
   "id": "7670f88e-f8d5-4ede-87b6-a29a23dd5d83",
   "metadata": {},
   "outputs": [
    {
     "name": "stdin",
     "output_type": "stream",
     "text": [
      " 4e54r6rsf1w7f6f61g82g7d'\n"
     ]
    },
    {
     "name": "stdout",
     "output_type": "stream",
     "text": [
      "3\n"
     ]
    }
   ],
   "source": [
    "#Примем на вход строку и выведем символы, которые встречаются чаще всего\n",
    "s = str(input())\n",
    "slov = {}\n",
    "for i in s:\n",
    "    if i in slov:\n",
    "        slov[i] += 1;\n",
    "    else:\n",
    "        slov[i] = 1;\n",
    "max = 0\n",
    "for i in slov:\n",
    "    if slov[i] > max:\n",
    "        max = slov[i]\n",
    "print(max)\n",
    "    "
   ]
  },
  {
   "cell_type": "code",
   "execution_count": 23,
   "id": "604a7192-e583-475b-a7d1-ee5f2403b826",
   "metadata": {},
   "outputs": [
    {
     "name": "stdin",
     "output_type": "stream",
     "text": [
      "Введите числа через пробел:  1 1 1 1 0 0 0 0 1 1 1 1 1 0 1 1 1 1 1 1 1 1 1 1 1 1 0\n"
     ]
    },
    {
     "data": {
      "text/plain": [
       "17"
      ]
     },
     "execution_count": 23,
     "metadata": {},
     "output_type": "execute_result"
    }
   ],
   "source": [
    "# примем на вход массив из нулей и единиц, необходимо удалить лучший элемент, такой что длина подмассива из единиц станет максимальной, например если \n",
    "# введет массив 1 1 0 1 1 то лучшим будет 0, тогда длина подмассива из единиц будет 4 \n",
    "input_str = input(\"Введите числа через пробел: \")\n",
    "array = list(map(int, input_str.split()))\n",
    "def qwerty(array):\n",
    "    f=-1\n",
    "    for i in array:\n",
    "        if i == 0:\n",
    "            f = 0\n",
    "    if f == -1:\n",
    "        return len(array) -1\n",
    "    max = 0\n",
    "    for i in range (0,len(array)):\n",
    "        if array[i] == 0:\n",
    "            left = 0\n",
    "            right = 0\n",
    "            j = i-1\n",
    "            k = i+1\n",
    "            while (j>-1 and array[j] == 1):\n",
    "                left += 1\n",
    "                j -= 1\n",
    "            while (k<len(array) and array[k] == 1):\n",
    "                right +=1\n",
    "                k += 1\n",
    "            if max < left + right:\n",
    "                max = left + right\n",
    "    return max            \n",
    "                \n",
    "            \n",
    "qwerty(array)\n",
    "# Альтернативный вариант - считать количество единиц слева пока не встретим два подряд идущих нуля, далее скипаем нули а затем повторяем до конца"
   ]
  },
  {
   "cell_type": "code",
   "execution_count": 4,
   "id": "07b90b94-5ba2-45b2-b103-f9423990ff22",
   "metadata": {},
   "outputs": [
    {
     "name": "stdout",
     "output_type": "stream",
     "text": [
      "Обычная газировка\n",
      "Газировка и малина\n",
      "Обычная газировка\n"
     ]
    }
   ],
   "source": [
    "class Soda:\n",
    "    def __init__(self, ingredient=None):\n",
    "        if isinstance(ingredient, str):\n",
    "            self.ingredient = ingredient\n",
    "        else:\n",
    "            self.ingredient = None\n",
    "\n",
    "    def show_my_drink(self):\n",
    "        if self.ingredient:\n",
    "            print('Газировка и',self.ingredient)\n",
    "        else:\n",
    "            print('Обычная газировка')\n",
    "\n",
    " \n",
    "# Тесты\n",
    "drink1 = Soda()\n",
    "drink2 = Soda('малина')\n",
    "drink3 = Soda(5)\n",
    "drink1.show_my_drink()\n",
    "drink2.show_my_drink()\n",
    "drink3.show_my_drink()"
   ]
  },
  {
   "cell_type": "code",
   "execution_count": 13,
   "id": "010aefda-7c33-417e-9c9a-ecf37d0f635b",
   "metadata": {},
   "outputs": [
    {
     "name": "stdout",
     "output_type": "stream",
     "text": [
      "Долбаеб, это не интовские значения\n"
     ]
    }
   ],
   "source": [
    "class TriangleChecker:\n",
    "    def __init__(self,a,b,c):\n",
    "        self.first = a\n",
    "        self.second = b\n",
    "        self.third = c\n",
    "    def is_triangle(self):\n",
    "        if isinstance(self.first, int) and isinstance(self.second, int) and isinstance(self.third, int) == 1:\n",
    "            if self.first>0 and self.second>0 and self.third > 0:\n",
    "                if (self.first < self.second + self.third) and (self.second < self.first + self.third) and (self.third < self.first + self.second):\n",
    "                    print('Да, треугольник')\n",
    "                else:\n",
    "                    print('Ты ввел тупые стороны')\n",
    "            else:\n",
    "                print('С отрицательными не выйдет')\n",
    "        else:\n",
    "            print('Долбаеб, это не интовские значения')\n",
    "\n",
    "\n",
    "qwert = TriangleChecker(-2,'СОСИ МОЙ ЗУЙ',2)\n",
    "qwert.is_triangle()"
   ]
  },
  {
   "cell_type": "code",
   "execution_count": 5,
   "id": "ec575366-bd54-409a-8e7d-53980b4c30b5",
   "metadata": {},
   "outputs": [
    {
     "ename": "ValueError",
     "evalue": "invalid literal for int() with base 10: 'asdfghjk'",
     "output_type": "error",
     "traceback": [
      "\u001b[1;31m---------------------------------------------------------------------------\u001b[0m",
      "\u001b[1;31mValueError\u001b[0m                                Traceback (most recent call last)",
      "Cell \u001b[1;32mIn[5], line 1\u001b[0m\n\u001b[1;32m----> 1\u001b[0m \u001b[38;5;28;43mint\u001b[39;49m\u001b[43m(\u001b[49m\u001b[38;5;124;43m'\u001b[39;49m\u001b[38;5;124;43masdfghjk\u001b[39;49m\u001b[38;5;124;43m'\u001b[39;49m\u001b[43m)\u001b[49m\n",
      "\u001b[1;31mValueError\u001b[0m: invalid literal for int() with base 10: 'asdfghjk'"
     ]
    }
   ],
   "source": [
    "int('asdfghjk')"
   ]
  },
  {
   "cell_type": "code",
   "execution_count": 94,
   "id": "72c7c375-8145-416e-883f-16ba9de5ed8b",
   "metadata": {},
   "outputs": [
    {
     "name": "stdout",
     "output_type": "stream",
     "text": [
      "Ура, можно построить треугольник!\n"
     ]
    }
   ],
   "source": [
    "class TriangleChecker:\n",
    "    def __init__(self, sides):\n",
    "        self.sides = sides\n",
    "\n",
    "    def is_triangle(self):\n",
    "        if all(isinstance(side, (int, float)) for side in self.sides):\n",
    "            if all(side > 0 for side in self.sides):\n",
    "                sorted_sides = sorted(self.sides)\n",
    "                if sorted_sides[0] + sorted_sides[1] > sorted_sides[2]:\n",
    "                    return 'Ура, можно построить треугольник!'\n",
    "                return 'Жаль, но из этого треугольник не сделать'\n",
    "            return 'С отрицательными числами ничего не выйдет!'\n",
    "        return 'Нужно вводить только числа!'\n",
    "\n",
    "triangle1 = TriangleChecker([11, 13, 15])\n",
    "print(triangle1.is_triangle())\n",
    "#triangle2 = TriangleChecker([77, 3, 4])\n",
    "#print(triangle2.is_triangle())\n",
    "#triangle3 = TriangleChecker([77, 3, 'Сторона3'])\n",
    "#print(triangle3.is_triangle())\n",
    "#triangle4 = TriangleChecker([77, -3, 4])\n",
    "#print(triangle4.is_triangle())"
   ]
  },
  {
   "cell_type": "code",
   "execution_count": null,
   "id": "7cd0cf4f-17b7-4338-893a-f6673d1846f5",
   "metadata": {},
   "outputs": [],
   "source": [
    "class KgToPounds:\n",
    "\n",
    "    def __init__(self, kg):\n",
    "        self.__kg = kg\n",
    "\n",
    "    def to_pounds(self):\n",
    "        return self.__kg * 2.205\n",
    "\n",
    "    def set_kg(self, new_kg):\n",
    "        if isinstance(new_kg, (int, float)):\n",
    "            self.__kg = new_kg\n",
    "        else:\n",
    "            raise ValueError('Килограммы задаются только числами')\n",
    "    \n",
    "    def get_kg(self):\n",
    "        return self.__kg"
   ]
  },
  {
   "cell_type": "code",
   "execution_count": null,
   "id": "532c7fb4-c048-458d-b741-3906a68a71d5",
   "metadata": {},
   "outputs": [],
   "source": [
    "class Car:\n",
    "    def __init__(self, make, model):\n",
    "        self._make = make\n",
    "        self._model = model\n",
    "\n",
    "    @property\n",
    "    def make(self):\n",
    "        return self._make\n",
    "\n",
    "    @property\n",
    "    def model(self):\n",
    "        return self._model\n",
    "\n",
    "# Создание экземпляра класса Car\n",
    "my_car = Car(\"Toyota\", \"Corolla\")\n",
    "\n",
    "# Доступ к приватным полям через геттеры, ибо в питоне приватность всего лишь соглашение. В самом деле к приватным полям есть доступ.\n",
    "print(my_car.make)\n",
    "print(my_car.model)\n",
    "\n"
   ]
  },
  {
   "cell_type": "code",
   "execution_count": 1,
   "id": "2fa4303e-82cc-4b49-98b9-e401d2ff8d66",
   "metadata": {},
   "outputs": [],
   "source": [
    "# на вход прммем буквы а на выходе строку где после каждой буквы укажем количество вхождений\n",
    "def ff(st):\n",
    "    i = 0\n",
    "    otv = []\n",
    "    while (i < len(st)):\n",
    "        if (i+1 < len(st) and st[i] == st[i+1]):\n",
    "            count = 1\n",
    "            while(i+1 < len(st) and st[i] == st[i+1]):\n",
    "                count = count + 1\n",
    "                i = i + 1\n",
    "            otv.append(st[i])\n",
    "            otv.append(count)\n",
    "            i = i + 1\n",
    "        else:\n",
    "            otv.append(st[i])\n",
    "            i = i +1\n",
    "    return ''.join([str(x) for x in otv])\n",
    "\n",
    "\n"
   ]
  },
  {
   "cell_type": "code",
   "execution_count": 34,
   "id": "0607ea31-8b12-4097-a853-d0e3bca706f3",
   "metadata": {},
   "outputs": [
    {
     "data": {
      "text/plain": [
       "'Q3W3ER2T'"
      ]
     },
     "execution_count": 34,
     "metadata": {},
     "output_type": "execute_result"
    }
   ],
   "source": [
    "ff('QQQWWWERRT')"
   ]
  },
  {
   "cell_type": "code",
   "execution_count": 2,
   "id": "ca0c7ebb-ea25-47bb-9f0b-4fb07f713df3",
   "metadata": {},
   "outputs": [],
   "source": [
    "def superscript(n):\n",
    "    return \"\".join([\"⁰¹²³⁴⁵⁶⁷⁸⁹\"[ord(c)-ord('0')] for c in str(n)]) \n"
   ]
  },
  {
   "cell_type": "code",
   "execution_count": 3,
   "id": "afdb805b-5196-4108-ac40-a8b20a5c1ae8",
   "metadata": {},
   "outputs": [],
   "source": [
    "class Monom():\n",
    "    def __init__(self, v, p1, p2):\n",
    "        self.value = v\n",
    "        self.px = p1\n",
    "        self.py = p2\n",
    "    def printmonom(self):\n",
    "        print(\"\".join([str(self.value),'x',superscript(self.px),'y',superscript(self.py)]))"
   ]
  },
  {
   "cell_type": "code",
   "execution_count": 4,
   "id": "70b88807-dc5e-4fe7-bd09-e25491323042",
   "metadata": {},
   "outputs": [],
   "source": [
    "def TakeMonom():\n",
    "    print('Введите коэффициент, степень x и степень y')\n",
    "    a = int(input())\n",
    "    b = int(input())\n",
    "    c = int(input())\n",
    "    q = Monom(a,b,c)\n",
    "    return q\n",
    "    "
   ]
  },
  {
   "cell_type": "code",
   "execution_count": 5,
   "id": "57d0bb5d-3fbe-4f52-9b16-db7cbb7ff6ef",
   "metadata": {},
   "outputs": [],
   "source": [
    "class Polynomial:\n",
    "    def __init__(self):\n",
    "        self.monomials = []\n",
    "\n",
    "    def add_monomial(self, monomial):\n",
    "        self.monomials.append(monomial)\n",
    "\n",
    "    def is_x(self): # 0 это ложь, 1 это правда\n",
    "        for i in self.monomials:\n",
    "            if (i.px>0 and i.py == 0 and i.value !=0):\n",
    "                return 1\n",
    "        return 0\n",
    "\n",
    "    def is_y(self): # 0 это ложь, 1 это правда есть ли голый игрик\n",
    "        for i in self.monomials:\n",
    "            if (i.py>0 and i.px == 0 and i.value !=0):\n",
    "                return 1\n",
    "        return 0\n",
    "\n",
    "    \n",
    "    def max_x(self):\n",
    "        e = 0\n",
    "        for i in self.monomials:\n",
    "            if (i.px > e and i.py == 0):\n",
    "                e = i.px\n",
    "        return e\n",
    "\n",
    "    def min_y(self):\n",
    "        e = 20000\n",
    "        for i in self.monomials:\n",
    "            if (i.py < e and i.px == 0):\n",
    "                e = i.py\n",
    "        return e\n",
    "\n",
    "    def min_x(self):\n",
    "        e = 20000\n",
    "        for i in self.monomials:\n",
    "            if (i.px < e and i.py == 0):\n",
    "                e = i.px\n",
    "        return e\n",
    "    \n",
    "    def coef_pri_max_x(self):\n",
    "        e = 0\n",
    "        a = 0\n",
    "        for i in self.monomials:\n",
    "            if (i.px > e and i.py == 0):\n",
    "                e = i.px\n",
    "                a = i.value\n",
    "        return a\n",
    "        \n",
    "    def divide_x(self,n):\n",
    "        for i in self.monomials:\n",
    "            i.px = i.px - n\n",
    "\n",
    "    def divide_y(self,n):\n",
    "        for i in self.monomials:\n",
    "            i.py = i.py - n\n",
    "            \n",
    "    def mul_value_x(self,v,n):\n",
    "        cop = Polynomial()\n",
    "        for i in self.monomials:\n",
    "            wer = Monom(v * i.value,i.px + n,i.py)\n",
    "            cop.add_monomial(wer)\n",
    "        return cop\n",
    "\n",
    "    \n",
    "    def mul_v(self,v):\n",
    "        for i in self.monomials:\n",
    "            i.value = v * i.value\n",
    "\n",
    "    \n",
    "    \n",
    "    def simplify(self):\n",
    "        simplified_monomials = {}\n",
    "        for monomial in self.monomials:\n",
    "            key = (monomial.px, monomial.py)\n",
    "            if key in simplified_monomials:\n",
    "                simplified_monomials[key] += monomial.value\n",
    "            else:\n",
    "                simplified_monomials[key] = monomial.value\n",
    "    \n",
    "        self.monomials = []\n",
    "        for key, value in simplified_monomials.items():\n",
    "            px, py = key\n",
    "            if value != 0:  # Check if the coefficient is not zero\n",
    "                self.monomials.append(Monom(value, px, py))\n",
    "\n",
    "    def adding(self, dob):\n",
    "        for i in dob.monomials:\n",
    "            self.add_monomial(i)\n",
    "        self.simplify()\n",
    "\n",
    "    def is_free(self):\n",
    "        for i in self.monomials:\n",
    "            if (i.px == 0 and i.py == 0 and i.value !=0):\n",
    "                return 1\n",
    "        return 0\n",
    "\n",
    "    def is_norm(self):\n",
    "        a = 0\n",
    "        b = 0\n",
    "        for i in self.monomials:\n",
    "            if (i.px == 0 and i.py >= 0 and i.value !=0):\n",
    "                a = -1\n",
    "        for i in self.monomials:\n",
    "            if (i.px >= 0 and i.py == 0 and i.value !=0):\n",
    "                b = -1\n",
    "        if (a == -1 and b == -1):\n",
    "            return 0\n",
    "        else:\n",
    "            return 1\n",
    "\n",
    "\n",
    "    def divide_polynomial(self):\n",
    "        x_degree = (self.monomials[0]).px\n",
    "        y_degree = (self.monomials[0]).py\n",
    "    \n",
    "        for monomial in self.monomials:\n",
    "            if monomial.px < x_degree:\n",
    "                x_degree = monomial.px\n",
    "            if monomial.py < y_degree:\n",
    "                y_degree = monomial.py\n",
    "    \n",
    "        return x_degree, y_degree\n",
    "\n",
    "    def count_x(self):\n",
    "        count = 0\n",
    "        for i in self.monomials:\n",
    "            if (i.px > 0 and i.py == 0 and i.value !=0):\n",
    "                count = count + 1\n",
    "        return count\n",
    "\n",
    "    def count_y(self):\n",
    "        count = 0\n",
    "        for i in self.monomials:\n",
    "            if (i.px == 0 and i.py > 0 and i.value !=0):\n",
    "                count = count + 1\n",
    "        return count\n",
    "\n",
    "    def count_xy(self):\n",
    "        count = 0\n",
    "        for i in self.monomials:\n",
    "            if (i.px > 0 and i.py > 0 and i.value !=0):\n",
    "                count = count + 1\n",
    "        return count\n",
    "\n",
    "    \n",
    "    def print_polynomial(self):\n",
    "        polynomial_str = \"\"\n",
    "        for index, monomial in enumerate(self.monomials):\n",
    "            if monomial.value >= 0:\n",
    "                polynomial_str += \" + \"\n",
    "            else:\n",
    "                polynomial_str += \" - \"          \n",
    "            polynomial_str += \"\".join([str(abs(monomial.value)), 'x', superscript(monomial.px), 'y', superscript(monomial.py)])\n",
    "        print(polynomial_str)\n",
    "\n",
    "\n",
    "\n",
    "def copy_polynomial(polynomial):\n",
    "    new_polynomial = Polynomial()\n",
    "    for monomial in polynomial.monomials:\n",
    "        new_polynomial.add_monomial(Monom(monomial.value, monomial.px, monomial.py))\n",
    "    return new_polynomial\n"
   ]
  },
  {
   "cell_type": "code",
   "execution_count": 6,
   "id": "7f0b1611-d6b4-420a-aae1-834482897976",
   "metadata": {},
   "outputs": [],
   "source": [
    "def Getcool(poly1,poly2):\n",
    "    if ((poly1.is_free() or poly2.is_free()) == 1):\n",
    "        return 0\n",
    "    if (poly1.count_x() == 1 and poly1.count_y() == 0 and poly1.count_xy() == 0):\n",
    "        h = poly2.min_y()\n",
    "        g = (poly1.monomials[0]).px\n",
    "        return h * g\n",
    "    if (poly2.count_x() == 1 and poly2.count_y() == 0 and poly2.count_xy() == 0):\n",
    "        h = poly1.min_y()\n",
    "        g = (poly2.monomials[0]).px\n",
    "        return h * g   \n",
    "    if (poly1.count_x() == 0 and poly1.count_y() == 1 and poly1.count_xy() == 0):\n",
    "        h = poly2.min_x()\n",
    "        g = (poly1.monomials[0]).py\n",
    "        return h * g\n",
    "    if (poly2.count_x() == 0 and poly2.count_y() == 1 and poly2.count_xy() == 0):\n",
    "        h = poly1.min_x()\n",
    "        g = (poly2.monomials[0]).py\n",
    "        return h * g\n",
    "    while ((poly1.is_norm() or poly2.is_norm()) != 1):\n",
    "        a = poly1.max_x()\n",
    "        b = poly2.max_x()\n",
    "        if (b > a):\n",
    "            if (poly2.coef_pri_max_x() % poly1.coef_pri_max_x()) != 0:\n",
    "                poly2.mul_v(poly1.coef_pri_max_x())\n",
    "            co = poly2.coef_pri_max_x() // poly1.coef_pri_max_x()\n",
    "            buf = poly1.mul_value_x(-co,b - a)\n",
    "            poly2.adding(buf)\n",
    "            poly2.simplify()\n",
    "        else:\n",
    "            if (poly1.coef_pri_max_x() % poly2.coef_pri_max_x()) != 0:\n",
    "                poly1.mul_v(poly2.coef_pri_max_x())\n",
    "            co = poly1.coef_pri_max_x() // poly2.coef_pri_max_x()\n",
    "            buf = poly2.mul_value_x(-co,a - b)\n",
    "            poly1.adding(buf)\n",
    "            poly1.simplify()\n",
    "        #poly1.print_polynomial()\n",
    "        #poly2.print_polynomial()\n",
    "    return -1"
   ]
  },
  {
   "cell_type": "code",
   "execution_count": 7,
   "id": "950b47f7-3e0d-4f39-9114-77482e376968",
   "metadata": {},
   "outputs": [],
   "source": [
    "def vinos(poly1, poly2, massiv):\n",
    "    one = (poly1.divide_polynomial())[0]\n",
    "    two = (poly1.divide_polynomial())[1]\n",
    "    three = (poly2.divide_polynomial())[0]\n",
    "    four = (poly2.divide_polynomial())[1]\n",
    "    if (one == 0 and two == 0 and three == 0 and four == 0):\n",
    "        return\n",
    "    elif (poly1.count_x() == 1 and poly1.count_y() == 0 and poly1.count_xy() == 0):\n",
    "        return\n",
    "    elif (poly2.count_x() == 1 and poly2.count_y() == 0 and poly2.count_xy() == 0):\n",
    "        return  \n",
    "    elif (poly1.count_x() == 0 and poly1.count_y() == 1 and poly1.count_xy() == 0):\n",
    "        return\n",
    "    elif (poly2.count_x() == 0 and poly2.count_y() == 1 and poly2.count_xy() == 0):\n",
    "        return\n",
    "    elif (one > 0 and two == 0 and three == 0 and four == 0):\n",
    "        poly1.divide_x(one)\n",
    "        mid = Polynomial()\n",
    "        zeq = Monom(1,one,0)\n",
    "        mid.add_monomial(zeq)\n",
    "        massiv.append([mid,copy_polynomial(poly2)])\n",
    "    elif (one == 0 and two == 0 and three > 0 and four == 0):\n",
    "        poly2.divide_x(three)\n",
    "        mid = Polynomial()\n",
    "        zeq = Monom(1,three,0)\n",
    "        mid.add_monomial(zeq)\n",
    "        massiv.append([mid,copy_polynomial(poly1)])\n",
    "    elif (one == 0 and two > 0 and three == 0 and four == 0):\n",
    "        poly1.divide_y(two)\n",
    "        mid = Polynomial()\n",
    "        zeq = Monom(1,0,two)\n",
    "        mid.add_monomial(zeq)\n",
    "        massiv.append([mid,copy_polynomial(poly2)])\n",
    "    elif (one == 0 and two == 0 and three == 0 and four > 0):\n",
    "        poly2.divide_y(four)\n",
    "        mid = Polynomial()\n",
    "        zeq = Monom(1,0,four)\n",
    "        mid.add_monomial(zeq)\n",
    "        massiv.append([mid,copy_polynomial(poly1)])\n",
    "    elif (one > 0 and two > 0 and three == 0 and four == 0):\n",
    "        poly1.divide_x(one)\n",
    "        poly1.divide_y(two)\n",
    "        mid = Polynomial()\n",
    "        zeq = Monom(1,one,0)\n",
    "        mid.add_monomial(zeq)\n",
    "        massiv.append([mid,copy_polynomial(poly2)])\n",
    "        mid = Polynomial()\n",
    "        zeq = Monom(1,0,two)\n",
    "        mid.add_monomial(zeq)\n",
    "        massiv.append([mid,copy_polynomial(poly2)])\n",
    "    elif (one == 0 and two == 0 and three > 0 and four > 0):\n",
    "        poly2.divide_x(one)\n",
    "        poly2.divide_y(two)\n",
    "        mid = Polynomial()\n",
    "        zeq = Monom(1,three,0)\n",
    "        mid.add_monomial(zeq)\n",
    "        massiv.append([mid,copy_polynomial(poly1)])\n",
    "        mid = Polynomial()\n",
    "        zeq = Monom(1,0,four)\n",
    "        mid.add_monomial(zeq)\n",
    "        massiv.append([mid,copy_polynomial(poly1)])\n",
    "    elif (one > 0 and two == 0 and three == 0 and four > 0):\n",
    "        poly1.divide_x(one)\n",
    "        poly2.divide_y(four)\n",
    "        mid = Polynomial()\n",
    "        zeq = Monom(1,one,0)\n",
    "        mid.add_monomial(zeq)\n",
    "        massiv.append([mid,copy_polynomial(poly2)])\n",
    "        mid = Polynomial()\n",
    "        zeq = Monom(1,0,four)\n",
    "        mid.add_monomial(zeq)\n",
    "        massiv.append([mid,copy_polynomial(poly1)])\n",
    "        mid1 = Polynomial()\n",
    "        mid2 = Polynomial()\n",
    "        zeq1 = Monom(1,one,0)\n",
    "        zeq2 = Monom(1,0,four)\n",
    "        mid1.add_monomial(zeq1)\n",
    "        mid2.add_monomial(zeq2)\n",
    "        massiv.append([mid1,mid2])\n",
    "    elif (one == 0 and two > 0 and three > 0 and four == 0):\n",
    "        poly1.divide_y(two)\n",
    "        poly2.divide_x(three)\n",
    "        mid = Polynomial()\n",
    "        zeq = Monom(1,three,0)\n",
    "        mid.add_monomial(zeq)\n",
    "        massiv.append([mid,copy_polynomial(poly1)])\n",
    "        mid = Polynomial()\n",
    "        zeq = Monom(1,0,two)\n",
    "        mid.add_monomial(zeq)\n",
    "        massiv.append([mid,copy_polynomial(poly2)])\n",
    "        mid1 = Polynomial()\n",
    "        mid2 = Polynomial()\n",
    "        zeq1 = Monom(1,three,0)\n",
    "        zeq2 = Monom(1,0,two)\n",
    "        mid1.add_monomial(zeq1)\n",
    "        mid2.add_monomial(zeq2)\n",
    "        massiv.append([mid1,mid2])\n",
    "    return"
   ]
  },
  {
   "cell_type": "code",
   "execution_count": 8,
   "id": "21e7dfb2-d54b-4e84-9536-8674cf73d395",
   "metadata": {},
   "outputs": [
    {
     "name": "stdout",
     "output_type": "stream",
     "text": [
      "Введите коэффициент, степень x и степень y\n"
     ]
    },
    {
     "name": "stdin",
     "output_type": "stream",
     "text": [
      " 2\n",
      " 3\n",
      " 0\n"
     ]
    },
    {
     "name": "stdout",
     "output_type": "stream",
     "text": [
      "Введите коэффициент, степень x и степень y\n"
     ]
    },
    {
     "name": "stdin",
     "output_type": "stream",
     "text": [
      " 1\n",
      " 0\n",
      " 1\n"
     ]
    },
    {
     "name": "stdout",
     "output_type": "stream",
     "text": [
      " + 2x³y⁰ + 1x⁰y¹\n",
      "Введите коэффициент, степень x и степень y\n"
     ]
    },
    {
     "name": "stdin",
     "output_type": "stream",
     "text": [
      " 1\n",
      " 2\n",
      " 2\n"
     ]
    },
    {
     "name": "stdout",
     "output_type": "stream",
     "text": [
      "Введите коэффициент, степень x и степень y\n"
     ]
    },
    {
     "name": "stdin",
     "output_type": "stream",
     "text": [
      " 1\n",
      " 0\n",
      " 1\n"
     ]
    },
    {
     "name": "stdout",
     "output_type": "stream",
     "text": [
      " + 1x²y² + 1x⁰y¹\n"
     ]
    }
   ],
   "source": [
    "w = TakeMonom()\n",
    "q = Polynomial()\n",
    "q.add_monomial(w)\n",
    "w = TakeMonom()\n",
    "q.add_monomial(w)\n",
    "q.print_polynomial()\n",
    "\n",
    "w = TakeMonom()\n",
    "z = Polynomial()\n",
    "z.add_monomial(w)\n",
    "w = TakeMonom()\n",
    "z.add_monomial(w)\n",
    "z.print_polynomial()\n"
   ]
  },
  {
   "cell_type": "code",
   "execution_count": 9,
   "id": "9b5f5e05-773e-48fc-ae24-eff9514bb6c3",
   "metadata": {},
   "outputs": [
    {
     "name": "stdout",
     "output_type": "stream",
     "text": [
      " + 2x³y⁰ + 1x⁰y¹\n",
      " + 1x²y¹ + 1x⁰y⁰\n",
      " + 1x⁰y¹\n",
      " + 2x³y⁰ + 1x⁰y¹\n",
      " + 1x⁰y¹\n",
      " + 2x³y⁰ + 1x⁰y¹\n"
     ]
    },
    {
     "data": {
      "text/plain": [
       "3"
      ]
     },
     "execution_count": 9,
     "metadata": {},
     "output_type": "execute_result"
    }
   ],
   "source": [
    "c = 0\n",
    "q.simplify()\n",
    "z.simplify()\n",
    "mass = [[q,z]]\n",
    "vinos(mass[0][0],mass[0][1],mass)\n",
    "while (mass != []):\n",
    "    i = 0\n",
    "    j = 0\n",
    "    while(i < len(mass)):\n",
    "        m = Getcool(mass[i][0],mass[i][1])\n",
    "        ll = 0\n",
    "        while (ll < len(mass)):\n",
    "            (mass[ll][0]).print_polynomial()\n",
    "            (mass[ll][1]).print_polynomial()\n",
    "            ll += 1\n",
    "        if m != -1 :\n",
    "            mass.pop(i)\n",
    "            c += m\n",
    "        else:\n",
    "            i = i + 1\n",
    "    while(j < len(mass)):\n",
    "        vinos(mass[j][0],mass[j][1],mass)\n",
    "        ll = 0\n",
    "        while (ll < len(mass)):\n",
    "            (mass[ll][0]).print_polynomial()\n",
    "            (mass[ll][1]).print_polynomial()\n",
    "            ll += 1\n",
    "        j += 1\n",
    "c"
   ]
  },
  {
   "cell_type": "code",
   "execution_count": null,
   "id": "0562bbe6-2f58-491c-9904-c8cf22da9529",
   "metadata": {},
   "outputs": [],
   "source": [
    "# предельно ясно, что вторая кривая - суть квадратная гипербола в совокупности с прямой y = 0. Именно она и будет пересекать график кубической кривой в нуле.\n"
   ]
  }
 ],
 "metadata": {
  "kernelspec": {
   "display_name": "Python 3 (ipykernel)",
   "language": "python",
   "name": "python3"
  },
  "language_info": {
   "codemirror_mode": {
    "name": "ipython",
    "version": 3
   },
   "file_extension": ".py",
   "mimetype": "text/x-python",
   "name": "python",
   "nbconvert_exporter": "python",
   "pygments_lexer": "ipython3",
   "version": "3.13.0"
  }
 },
 "nbformat": 4,
 "nbformat_minor": 5
}
